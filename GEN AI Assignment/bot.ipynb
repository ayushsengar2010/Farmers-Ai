{
 "cells": [
  {
   "cell_type": "code",
   "execution_count": 25,
   "id": "4c38c6d8",
   "metadata": {},
   "outputs": [
    {
     "name": "stdout",
     "output_type": "stream",
     "text": [
      "4.40.1\n"
     ]
    }
   ],
   "source": [
    "import transformers\n",
    "print(transformers.__version__)\n"
   ]
  },
  {
   "cell_type": "code",
   "execution_count": 26,
   "id": "2200fe63",
   "metadata": {},
   "outputs": [],
   "source": [
    "from datasets import load_dataset\n",
    "\n",
    "ds = load_dataset(\"YuvrajSingh9886/Agriculture-Soil-QA-Pairs-Dataset\")"
   ]
  },
  {
   "cell_type": "code",
   "execution_count": 27,
   "id": "1f27a733",
   "metadata": {},
   "outputs": [
    {
     "data": {
      "text/plain": [
       "DatasetDict({\n",
       "    train: Dataset({\n",
       "        features: ['Unnamed: 0', 'ANSWER', 'QUESTION.question', 'QUESTION.paragraph'],\n",
       "        num_rows: 3447\n",
       "    })\n",
       "})"
      ]
     },
     "execution_count": 27,
     "metadata": {},
     "output_type": "execute_result"
    }
   ],
   "source": [
    "ds"
   ]
  },
  {
   "cell_type": "code",
   "execution_count": 28,
   "id": "3c1427cd",
   "metadata": {},
   "outputs": [],
   "source": [
    "import pandas as pd\n",
    "import numpy as np\n",
    "import matplotlib.pyplot as plt\n",
    "from sklearn.model_selection import train_test_split\n",
    "import evaluate\n",
    "import re\n",
    "from transformers import (\n",
    "    AutoTokenizer,\n",
    "    AutoModelForQuestionAnswering,\n",
    "    Seq2SeqTrainingArguments,\n",
    "    Seq2SeqTrainer,\n",
    "    T5Tokenizer,\n",
    "    default_data_collator,\n",
    "    T5ForConditionalGeneration,\n",
    "    DataCollatorForSeq2Seq\n",
    ")\n",
    "\n",
    "from transformers import pipeline\n",
    "from transformers import set_seed\n",
    "set_seed(42)"
   ]
  },
  {
   "cell_type": "code",
   "execution_count": 29,
   "id": "499d890d",
   "metadata": {},
   "outputs": [
    {
     "data": {
      "text/plain": [
       "DatasetDict({\n",
       "    train: Dataset({\n",
       "        features: ['Unnamed: 0', 'ANSWER', 'QUESTION.question', 'QUESTION.paragraph'],\n",
       "        num_rows: 2757\n",
       "    })\n",
       "    test: Dataset({\n",
       "        features: ['Unnamed: 0', 'ANSWER', 'QUESTION.question', 'QUESTION.paragraph'],\n",
       "        num_rows: 690\n",
       "    })\n",
       "})"
      ]
     },
     "execution_count": 29,
     "metadata": {},
     "output_type": "execute_result"
    }
   ],
   "source": [
    "split_dataset = ds[\"train\"].train_test_split(test_size=0.2, seed=42)\n",
    "split_dataset"
   ]
  },
  {
   "cell_type": "code",
   "execution_count": 30,
   "id": "242a7bf4",
   "metadata": {},
   "outputs": [
    {
     "data": {
      "text/html": [
       "<div>\n",
       "<style scoped>\n",
       "    .dataframe tbody tr th:only-of-type {\n",
       "        vertical-align: middle;\n",
       "    }\n",
       "\n",
       "    .dataframe tbody tr th {\n",
       "        vertical-align: top;\n",
       "    }\n",
       "\n",
       "    .dataframe thead th {\n",
       "        text-align: right;\n",
       "    }\n",
       "</style>\n",
       "<table border=\"1\" class=\"dataframe\">\n",
       "  <thead>\n",
       "    <tr style=\"text-align: right;\">\n",
       "      <th></th>\n",
       "      <th>questions</th>\n",
       "      <th>answers</th>\n",
       "    </tr>\n",
       "  </thead>\n",
       "  <tbody>\n",
       "    <tr>\n",
       "      <th>0</th>\n",
       "      <td>question: What is often rewarded under agri-en...</td>\n",
       "      <td>Semi-natural habitats</td>\n",
       "    </tr>\n",
       "    <tr>\n",
       "      <th>1</th>\n",
       "      <td>question: When can the harvesting process for ...</td>\n",
       "      <td>The harvesting process for these crops can gen...</td>\n",
       "    </tr>\n",
       "    <tr>\n",
       "      <th>2</th>\n",
       "      <td>question: What can help optimize nutrient cycl...</td>\n",
       "      <td>Variety and species mixtures (intercrops).</td>\n",
       "    </tr>\n",
       "    <tr>\n",
       "      <th>3</th>\n",
       "      <td>question: What is included in the assessment o...</td>\n",
       "      <td>Number of earthworm burrows and extent of visi...</td>\n",
       "    </tr>\n",
       "    <tr>\n",
       "      <th>4</th>\n",
       "      <td>question: How can soil-borne pest build-up ass...</td>\n",
       "      <td>Soil-borne pest build-up can be avoided by pra...</td>\n",
       "    </tr>\n",
       "    <tr>\n",
       "      <th>...</th>\n",
       "      <td>...</td>\n",
       "      <td>...</td>\n",
       "    </tr>\n",
       "    <tr>\n",
       "      <th>2752</th>\n",
       "      <td>question: Why is it important to incorporate t...</td>\n",
       "      <td>To ensure minimal nitrogen loss</td>\n",
       "    </tr>\n",
       "    <tr>\n",
       "      <th>2753</th>\n",
       "      <td>question: How do microbes contribute to nutrie...</td>\n",
       "      <td>Microbes contribute to nutrient availability b...</td>\n",
       "    </tr>\n",
       "    <tr>\n",
       "      <th>2754</th>\n",
       "      <td>question: How does the hand texturing method c...</td>\n",
       "      <td>In the hand texturing method, soil that forms ...</td>\n",
       "    </tr>\n",
       "    <tr>\n",
       "      <th>2755</th>\n",
       "      <td>question: List methods to minimize soil compac...</td>\n",
       "      <td>To minimize soil compaction from machinery, on...</td>\n",
       "    </tr>\n",
       "    <tr>\n",
       "      <th>2756</th>\n",
       "      <td>question: Discuss the suitability of medium te...</td>\n",
       "      <td>Medium textured soils are widely acceptable fo...</td>\n",
       "    </tr>\n",
       "  </tbody>\n",
       "</table>\n",
       "<p>2757 rows × 2 columns</p>\n",
       "</div>"
      ],
      "text/plain": [
       "                                              questions  \\\n",
       "0     question: What is often rewarded under agri-en...   \n",
       "1     question: When can the harvesting process for ...   \n",
       "2     question: What can help optimize nutrient cycl...   \n",
       "3     question: What is included in the assessment o...   \n",
       "4     question: How can soil-borne pest build-up ass...   \n",
       "...                                                 ...   \n",
       "2752  question: Why is it important to incorporate t...   \n",
       "2753  question: How do microbes contribute to nutrie...   \n",
       "2754  question: How does the hand texturing method c...   \n",
       "2755  question: List methods to minimize soil compac...   \n",
       "2756  question: Discuss the suitability of medium te...   \n",
       "\n",
       "                                                answers  \n",
       "0                                 Semi-natural habitats  \n",
       "1     The harvesting process for these crops can gen...  \n",
       "2            Variety and species mixtures (intercrops).  \n",
       "3     Number of earthworm burrows and extent of visi...  \n",
       "4     Soil-borne pest build-up can be avoided by pra...  \n",
       "...                                                 ...  \n",
       "2752                    To ensure minimal nitrogen loss  \n",
       "2753  Microbes contribute to nutrient availability b...  \n",
       "2754  In the hand texturing method, soil that forms ...  \n",
       "2755  To minimize soil compaction from machinery, on...  \n",
       "2756  Medium textured soils are widely acceptable fo...  \n",
       "\n",
       "[2757 rows x 2 columns]"
      ]
     },
     "execution_count": 30,
     "metadata": {},
     "output_type": "execute_result"
    }
   ],
   "source": [
    "questions = [\"question: \" + q for q in split_dataset['train']['QUESTION.question']]\n",
    "answers = [a for a in split_dataset['train']['ANSWER']]\n",
    "\n",
    "df = pd.DataFrame({'questions': questions, 'answers': answers})\n",
    "df\n"
   ]
  },
  {
   "cell_type": "code",
   "execution_count": 31,
   "id": "326b43a5",
   "metadata": {},
   "outputs": [
    {
     "name": "stderr",
     "output_type": "stream",
     "text": [
      "c:\\Users\\ayush\\anaconda3\\envs\\tf\\lib\\site-packages\\huggingface_hub\\file_download.py:896: FutureWarning: `resume_download` is deprecated and will be removed in version 1.0.0. Downloads always resume when possible. If you want to force a new download, use `force_download=True`.\n",
      "  warnings.warn(\n",
      "Special tokens have been added in the vocabulary, make sure the associated word embeddings are fine-tuned or trained.\n"
     ]
    }
   ],
   "source": [
    "from transformers import T5Tokenizer, T5ForConditionalGeneration\n",
    "\n",
    "# Load tokenizer and model\n",
    "tokenizer = T5Tokenizer.from_pretrained(\"t5-base\")\n",
    "model = T5ForConditionalGeneration.from_pretrained(\"t5-base\")\n",
    "\n",
    "#Ensure CUDA is used if available\n",
    "import torch\n",
    "device = torch.device(\"cuda\" if torch.cuda.is_available() else \"cpu\")\n",
    "model.to(device)\n",
    "\n",
    "# Define max lengths\n",
    "max_input_length = 256\n",
    "max_target_length = 64\n",
    "\n",
    "# Define the preprocessing function\n",
    "def preprocess(batch):\n",
    "    inputs = [\"question: \" + q.strip() for q in batch[\"QUESTION.question\"]]\n",
    "    targets = [a[0] if isinstance(a, list) else a for a in batch[\"ANSWER\"]]\n",
    "    \n",
    "    model_inputs = tokenizer(inputs, \n",
    "                             max_length=max_input_length, \n",
    "                             truncation=True, \n",
    "                             padding=True)\n",
    "    \n",
    "    labels = tokenizer(targets, \n",
    "                       max_length=max_target_length, \n",
    "                       truncation=True, \n",
    "                       padding=True)\n",
    "    \n",
    "    model_inputs[\"labels\"] = labels[\"input_ids\"]\n",
    "    return model_inputs\n",
    "\n",
    "# Apply the preprocessing\n",
    "train_dataset = split_dataset[\"train\"].map(preprocess, batched=True)\n",
    "test_dataset = split_dataset[\"test\"].map(preprocess, batched=True)\n"
   ]
  },
  {
   "cell_type": "code",
   "execution_count": 32,
   "id": "526fd88b",
   "metadata": {},
   "outputs": [],
   "source": [
    "rouge = evaluate.load(\"rouge\")\n",
    "\n",
    "def compute_metrics(eval_preds):\n",
    "    preds, labels = eval_preds\n",
    "    if hasattr(preds, \"dim\"):\n",
    "        preds = preds.argmax(dim=-1)\n",
    "    else:\n",
    "        preds = np.argmax(preds, axis=-1)\n",
    "\n",
    "    decoded_preds = tokenizer.batch_decode(preds, skip_special_tokens=True)\n",
    "\n",
    "    labels = [[(l if l != -100 else tokenizer.pad_token_id) for l in label] for label in labels]\n",
    "    decoded_labels = tokenizer.batch_decode(labels, skip_special_tokens=True)\n",
    "\n",
    "    decoded_preds = [\"\\n\".join(pred.strip().split(\". \")) for pred in decoded_preds]\n",
    "    decoded_labels = [\"\\n\".join(label.strip().split(\". \")) for label in decoded_labels]\n",
    "\n",
    "    result = rouge.compute(predictions=decoded_preds, references=decoded_labels, use_stemmer=True)\n",
    "    \n",
    "    result = {key: round(value * 100, 4) for key, value in result.items()}\n",
    "\n",
    "    return result\n"
   ]
  },
  {
   "cell_type": "code",
   "execution_count": 33,
   "id": "1612e9d9",
   "metadata": {},
   "outputs": [],
   "source": [
    "data_collator = DataCollatorForSeq2Seq(tokenizer, model=model)\n",
    "\n",
    "training_args = Seq2SeqTrainingArguments(\n",
    "    output_dir = \"./t5-agri-qa\",\n",
    "    per_device_train_batch_size = 8,\n",
    "    gradient_accumulation_steps = 4,\n",
    "    num_train_epochs = 3,\n",
    "    learning_rate = 5e-5,\n",
    "    evaluation_strategy = \"epoch\",      \n",
    "    save_strategy = \"epoch\",             \n",
    "    logging_dir = \"./logs\",             \n",
    "    logging_steps = 10,\n",
    "    predict_with_generate = True,\n",
    "    fp16 = True,\n",
    "    save_total_limit = 2,\n",
    ")\n",
    "\n",
    "trainer = Seq2SeqTrainer(\n",
    "    model             = model,\n",
    "    args              = training_args,\n",
    "    train_dataset     = train_dataset,\n",
    "    eval_dataset      = test_dataset,\n",
    "    data_collator     = data_collator,\n",
    "    tokenizer         = tokenizer,\n",
    "    compute_metrics   = compute_metrics,\n",
    ")"
   ]
  },
  {
   "cell_type": "code",
   "execution_count": 34,
   "id": "9f2333ca",
   "metadata": {},
   "outputs": [
    {
     "data": {
      "application/vnd.jupyter.widget-view+json": {
       "model_id": "ccfcd481a95e4c59927f258147e7f086",
       "version_major": 2,
       "version_minor": 0
      },
      "text/plain": [
       "  0%|          | 0/258 [00:00<?, ?it/s]"
      ]
     },
     "metadata": {},
     "output_type": "display_data"
    },
    {
     "name": "stdout",
     "output_type": "stream",
     "text": [
      "{'loss': 8.611, 'grad_norm': 20.78984260559082, 'learning_rate': 4.8062015503875976e-05, 'epoch': 0.12}\n",
      "{'loss': 2.6468, 'grad_norm': 1.9032557010650635, 'learning_rate': 4.6124031007751936e-05, 'epoch': 0.23}\n",
      "{'loss': 1.8645, 'grad_norm': 1.3437389135360718, 'learning_rate': 4.418604651162791e-05, 'epoch': 0.35}\n",
      "{'loss': 1.7265, 'grad_norm': 1.7292717695236206, 'learning_rate': 4.2248062015503877e-05, 'epoch': 0.46}\n",
      "{'loss': 1.5243, 'grad_norm': 1.0560312271118164, 'learning_rate': 4.0310077519379843e-05, 'epoch': 0.58}\n",
      "{'loss': 1.4319, 'grad_norm': 0.8209211230278015, 'learning_rate': 3.837209302325582e-05, 'epoch': 0.7}\n",
      "{'loss': 1.4533, 'grad_norm': 0.8317121267318726, 'learning_rate': 3.6434108527131784e-05, 'epoch': 0.81}\n",
      "{'loss': 1.413, 'grad_norm': 1.2472033500671387, 'learning_rate': 3.449612403100775e-05, 'epoch': 0.93}\n"
     ]
    },
    {
     "name": "stderr",
     "output_type": "stream",
     "text": [
      "c:\\Users\\ayush\\anaconda3\\envs\\tf\\lib\\site-packages\\transformers\\generation\\utils.py:1141: UserWarning: Using the model-agnostic default `max_length` (=20) to control the generation length. We recommend setting `max_new_tokens` to control the maximum length of the generation.\n",
      "  warnings.warn(\n"
     ]
    },
    {
     "data": {
      "application/vnd.jupyter.widget-view+json": {
       "model_id": "0aa0f47f062e47d1a3cc7b65355b0710",
       "version_major": 2,
       "version_minor": 0
      },
      "text/plain": [
       "  0%|          | 0/87 [00:00<?, ?it/s]"
      ]
     },
     "metadata": {},
     "output_type": "display_data"
    },
    {
     "name": "stdout",
     "output_type": "stream",
     "text": [
      "{'eval_loss': 1.2735306024551392, 'eval_rouge1': 0.2161, 'eval_rouge2': 0.0, 'eval_rougeL': 0.2143, 'eval_rougeLsum': 0.2153, 'eval_runtime': 157.7957, 'eval_samples_per_second': 4.373, 'eval_steps_per_second': 0.551, 'epoch': 1.0}\n",
      "{'loss': 1.4061, 'grad_norm': 0.9429342150688171, 'learning_rate': 3.2558139534883724e-05, 'epoch': 1.04}\n",
      "{'loss': 1.349, 'grad_norm': 0.898872435092926, 'learning_rate': 3.062015503875969e-05, 'epoch': 1.16}\n",
      "{'loss': 1.3734, 'grad_norm': 0.77265465259552, 'learning_rate': 2.868217054263566e-05, 'epoch': 1.28}\n",
      "{'loss': 1.2805, 'grad_norm': 1.0102753639221191, 'learning_rate': 2.674418604651163e-05, 'epoch': 1.39}\n",
      "{'loss': 1.3253, 'grad_norm': 0.735115110874176, 'learning_rate': 2.48062015503876e-05, 'epoch': 1.51}\n",
      "{'loss': 1.3785, 'grad_norm': 0.8996531963348389, 'learning_rate': 2.2868217054263565e-05, 'epoch': 1.62}\n",
      "{'loss': 1.2792, 'grad_norm': 0.6612233519554138, 'learning_rate': 2.0930232558139536e-05, 'epoch': 1.74}\n",
      "{'loss': 1.2172, 'grad_norm': 0.7478262186050415, 'learning_rate': 1.8992248062015506e-05, 'epoch': 1.86}\n",
      "{'loss': 1.3062, 'grad_norm': 0.6178664565086365, 'learning_rate': 1.7054263565891473e-05, 'epoch': 1.97}\n"
     ]
    },
    {
     "name": "stderr",
     "output_type": "stream",
     "text": [
      "c:\\Users\\ayush\\anaconda3\\envs\\tf\\lib\\site-packages\\transformers\\generation\\utils.py:1141: UserWarning: Using the model-agnostic default `max_length` (=20) to control the generation length. We recommend setting `max_new_tokens` to control the maximum length of the generation.\n",
      "  warnings.warn(\n"
     ]
    },
    {
     "data": {
      "application/vnd.jupyter.widget-view+json": {
       "model_id": "b7b77858739f4147abf7b75a34ae97ef",
       "version_major": 2,
       "version_minor": 0
      },
      "text/plain": [
       "  0%|          | 0/87 [00:00<?, ?it/s]"
      ]
     },
     "metadata": {},
     "output_type": "display_data"
    },
    {
     "name": "stdout",
     "output_type": "stream",
     "text": [
      "{'eval_loss': 1.2060703039169312, 'eval_rouge1': 0.7472, 'eval_rouge2': 0.0, 'eval_rougeL': 0.745, 'eval_rougeLsum': 0.7436, 'eval_runtime': 169.1676, 'eval_samples_per_second': 4.079, 'eval_steps_per_second': 0.514, 'epoch': 1.99}\n",
      "{'loss': 1.2891, 'grad_norm': 0.7538323402404785, 'learning_rate': 1.5116279069767441e-05, 'epoch': 2.09}\n",
      "{'loss': 1.2723, 'grad_norm': 0.5896371603012085, 'learning_rate': 1.3178294573643413e-05, 'epoch': 2.2}\n",
      "{'loss': 1.264, 'grad_norm': 0.6710590720176697, 'learning_rate': 1.1240310077519382e-05, 'epoch': 2.32}\n",
      "{'loss': 1.2626, 'grad_norm': 0.5775766372680664, 'learning_rate': 9.302325581395349e-06, 'epoch': 2.43}\n",
      "{'loss': 1.2701, 'grad_norm': 0.9357897043228149, 'learning_rate': 7.364341085271319e-06, 'epoch': 2.55}\n",
      "{'loss': 1.2404, 'grad_norm': 0.5922541618347168, 'learning_rate': 5.426356589147287e-06, 'epoch': 2.67}\n",
      "{'loss': 1.2481, 'grad_norm': 0.6117753386497498, 'learning_rate': 3.488372093023256e-06, 'epoch': 2.78}\n",
      "{'loss': 1.2998, 'grad_norm': 0.6559748649597168, 'learning_rate': 1.550387596899225e-06, 'epoch': 2.9}\n"
     ]
    },
    {
     "name": "stderr",
     "output_type": "stream",
     "text": [
      "c:\\Users\\ayush\\anaconda3\\envs\\tf\\lib\\site-packages\\transformers\\generation\\utils.py:1141: UserWarning: Using the model-agnostic default `max_length` (=20) to control the generation length. We recommend setting `max_new_tokens` to control the maximum length of the generation.\n",
      "  warnings.warn(\n"
     ]
    },
    {
     "data": {
      "application/vnd.jupyter.widget-view+json": {
       "model_id": "016e488c48fe4852a5c98a307f8430bc",
       "version_major": 2,
       "version_minor": 0
      },
      "text/plain": [
       "  0%|          | 0/87 [00:00<?, ?it/s]"
      ]
     },
     "metadata": {},
     "output_type": "display_data"
    },
    {
     "name": "stdout",
     "output_type": "stream",
     "text": [
      "{'eval_loss': 1.1947771310806274, 'eval_rouge1': 0.7379, 'eval_rouge2': 0.0, 'eval_rougeL': 0.7352, 'eval_rougeLsum': 0.7348, 'eval_runtime': 66.595, 'eval_samples_per_second': 10.361, 'eval_steps_per_second': 1.306, 'epoch': 2.99}\n",
      "{'train_runtime': 912.7236, 'train_samples_per_second': 9.062, 'train_steps_per_second': 0.283, 'train_loss': 1.6955944327420966, 'epoch': 2.99}\n"
     ]
    }
   ],
   "source": [
    "trainer.train()\n",
    "trainer.save_model(\"./t5-agri-qa\") "
   ]
  },
  {
   "cell_type": "code",
   "execution_count": 36,
   "id": "ef503f8e",
   "metadata": {},
   "outputs": [
    {
     "data": {
      "image/png": "[encoded data removed]",
      "text/plain": [
       "<Figure size 800x500 with 1 Axes>"
      ]
     },
     "metadata": {},
     "output_type": "display_data"
    }
   ],
   "source": [
    "import json\n",
    "\n",
    "\n",
    "# Read all log files (they are saved in 'trainer_state.json')\n",
    "with open(\"t5-agri-qa/checkpoint-258/trainer_state.json\", \"r\") as f:\n",
    "    logs = json.load(f)\n",
    "\n",
    "training_logs = logs[\"log_history\"]\n",
    "\n",
    "# Extract rougeL scores and epochs\n",
    "epochs = []\n",
    "rougeL = []\n",
    "\n",
    "for log in training_logs:\n",
    "    if \"eval_rougeL\" in log:\n",
    "        epochs.append(log[\"epoch\"])\n",
    "        rougeL.append(log[\"eval_rougeL\"])\n",
    "\n",
    "# Plot\n",
    "plt.figure(figsize=(8,5))\n",
    "plt.plot(epochs, rougeL, marker=\"o\", label=\"ROUGE-L Score\")\n",
    "plt.title(\"ROUGE-L Score vs Epochs\")\n",
    "plt.xlabel(\"Epochs\")\n",
    "plt.ylabel(\"ROUGE-L (%)\")\n",
    "plt.grid(True)\n",
    "plt.legend()\n",
    "plt.show()\n"
   ]
  },
  {
   "cell_type": "code",
   "execution_count": null,
   "id": "c10f7ff8",
   "metadata": {},
   "outputs": [],
   "source": []
  }
 ],
 "metadata": {
  "kernelspec": {
   "display_name": "tf",
   "language": "python",
   "name": "python3"
  },
  "language_info": {
   "codemirror_mode": {
    "name": "ipython",
    "version": 3
   },
   "file_extension": ".py",
   "mimetype": "text/x-python",
   "name": "python",
   "nbconvert_exporter": "python",
   "pygments_lexer": "ipython3",
   "version": "3.9.21"
  }
 },
 "nbformat": 4,
 "nbformat_minor": 5
}
