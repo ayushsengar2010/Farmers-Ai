{
 "cells": [
  {
   "cell_type": "code",
   "execution_count": 1,
   "id": "2200fe63",
   "metadata": {},
   "outputs": [],
   "source": [
    "from datasets import load_dataset\n",
    "\n",
    "ds = load_dataset(\"YuvrajSingh9886/Agriculture-Soil-QA-Pairs-Dataset\")"
   ]
  },
  {
   "cell_type": "code",
   "execution_count": 7,
   "id": "1f27a733",
   "metadata": {},
   "outputs": [
    {
     "data": {
      "text/plain": [
       "DatasetDict({\n",
       "    train: Dataset({\n",
       "        features: ['Unnamed: 0', 'ANSWER', 'QUESTION.question', 'QUESTION.paragraph'],\n",
       "        num_rows: 3447\n",
       "    })\n",
       "})"
      ]
     },
     "execution_count": 7,
     "metadata": {},
     "output_type": "execute_result"
    }
   ],
   "source": [
    "import pandas as pd\n",
    "ds"
   ]
  },
  {
   "cell_type": "code",
   "execution_count": null,
   "id": "3c1427cd",
   "metadata": {},
   "outputs": [],
   "source": [
    "import pandas as pd\n",
    "import numpy as np\n",
    "import matplotlib.pyplot as plt\n",
    "from sklearn.model_selection import train_test_split\n",
    "import evaluate\n",
    "import re\n",
    "from transformers import (\n",
    "    AutoTokenizer,\n",
    "    AutoModelForQuestionAnswering,\n",
    "    Seq2SeqTrainingArguments,\n",
    "    Seq2SeqTrainer,\n",
    "    T5Tokenizer,\n",
    "    default_data_collator,\n",
    "    T5ForConditionalGeneration,\n",
    "    DataCollatorForSeq2Seq\n",
    ")\n",
    "from transformers import AutoTokenizer\n",
    "from transformers import AutoModelForCausalLM\n",
    "from transformers import pipeline\n",
    "from transformers import set_seed\n",
    "set_seed(42)"
   ]
  },
  {
   "cell_type": "code",
   "execution_count": 3,
   "id": "499d890d",
   "metadata": {},
   "outputs": [
    {
     "data": {
      "text/plain": [
       "DatasetDict({\n",
       "    train: Dataset({\n",
       "        features: ['Unnamed: 0', 'ANSWER', 'QUESTION.question', 'QUESTION.paragraph'],\n",
       "        num_rows: 2757\n",
       "    })\n",
       "    test: Dataset({\n",
       "        features: ['Unnamed: 0', 'ANSWER', 'QUESTION.question', 'QUESTION.paragraph'],\n",
       "        num_rows: 690\n",
       "    })\n",
       "})"
      ]
     },
     "execution_count": 3,
     "metadata": {},
     "output_type": "execute_result"
    }
   ],
   "source": [
    "split_dataset = ds[\"train\"].train_test_split(test_size=0.2, seed=42)\n",
    "split_dataset"
   ]
  },
  {
   "cell_type": "code",
   "execution_count": 8,
   "id": "242a7bf4",
   "metadata": {},
   "outputs": [
    {
     "data": {
      "text/html": [
       "<div>\n",
       "<style scoped>\n",
       "    .dataframe tbody tr th:only-of-type {\n",
       "        vertical-align: middle;\n",
       "    }\n",
       "\n",
       "    .dataframe tbody tr th {\n",
       "        vertical-align: top;\n",
       "    }\n",
       "\n",
       "    .dataframe thead th {\n",
       "        text-align: right;\n",
       "    }\n",
       "</style>\n",
       "<table border=\"1\" class=\"dataframe\">\n",
       "  <thead>\n",
       "    <tr style=\"text-align: right;\">\n",
       "      <th></th>\n",
       "      <th>questions</th>\n",
       "      <th>answers</th>\n",
       "    </tr>\n",
       "  </thead>\n",
       "  <tbody>\n",
       "    <tr>\n",
       "      <th>0</th>\n",
       "      <td>question:What is often rewarded under agri-env...</td>\n",
       "      <td>Semi-natural habitats</td>\n",
       "    </tr>\n",
       "    <tr>\n",
       "      <th>1</th>\n",
       "      <td>question:When can the harvesting process for t...</td>\n",
       "      <td>The harvesting process for these crops can gen...</td>\n",
       "    </tr>\n",
       "    <tr>\n",
       "      <th>2</th>\n",
       "      <td>question:What can help optimize nutrient cycle...</td>\n",
       "      <td>Variety and species mixtures (intercrops).</td>\n",
       "    </tr>\n",
       "    <tr>\n",
       "      <th>3</th>\n",
       "      <td>question:What is included in the assessment of...</td>\n",
       "      <td>Number of earthworm burrows and extent of visi...</td>\n",
       "    </tr>\n",
       "    <tr>\n",
       "      <th>4</th>\n",
       "      <td>question:How can soil-borne pest build-up asso...</td>\n",
       "      <td>Soil-borne pest build-up can be avoided by pra...</td>\n",
       "    </tr>\n",
       "    <tr>\n",
       "      <th>...</th>\n",
       "      <td>...</td>\n",
       "      <td>...</td>\n",
       "    </tr>\n",
       "    <tr>\n",
       "      <th>2752</th>\n",
       "      <td>question:Why is it important to incorporate th...</td>\n",
       "      <td>To ensure minimal nitrogen loss</td>\n",
       "    </tr>\n",
       "    <tr>\n",
       "      <th>2753</th>\n",
       "      <td>question:How do microbes contribute to nutrien...</td>\n",
       "      <td>Microbes contribute to nutrient availability b...</td>\n",
       "    </tr>\n",
       "    <tr>\n",
       "      <th>2754</th>\n",
       "      <td>question:How does the hand texturing method cl...</td>\n",
       "      <td>In the hand texturing method, soil that forms ...</td>\n",
       "    </tr>\n",
       "    <tr>\n",
       "      <th>2755</th>\n",
       "      <td>question:List methods to minimize soil compact...</td>\n",
       "      <td>To minimize soil compaction from machinery, on...</td>\n",
       "    </tr>\n",
       "    <tr>\n",
       "      <th>2756</th>\n",
       "      <td>question:Discuss the suitability of medium tex...</td>\n",
       "      <td>Medium textured soils are widely acceptable fo...</td>\n",
       "    </tr>\n",
       "  </tbody>\n",
       "</table>\n",
       "<p>2757 rows × 2 columns</p>\n",
       "</div>"
      ],
      "text/plain": [
       "                                              questions  \\\n",
       "0     question:What is often rewarded under agri-env...   \n",
       "1     question:When can the harvesting process for t...   \n",
       "2     question:What can help optimize nutrient cycle...   \n",
       "3     question:What is included in the assessment of...   \n",
       "4     question:How can soil-borne pest build-up asso...   \n",
       "...                                                 ...   \n",
       "2752  question:Why is it important to incorporate th...   \n",
       "2753  question:How do microbes contribute to nutrien...   \n",
       "2754  question:How does the hand texturing method cl...   \n",
       "2755  question:List methods to minimize soil compact...   \n",
       "2756  question:Discuss the suitability of medium tex...   \n",
       "\n",
       "                                                answers  \n",
       "0                                 Semi-natural habitats  \n",
       "1     The harvesting process for these crops can gen...  \n",
       "2            Variety and species mixtures (intercrops).  \n",
       "3     Number of earthworm burrows and extent of visi...  \n",
       "4     Soil-borne pest build-up can be avoided by pra...  \n",
       "...                                                 ...  \n",
       "2752                    To ensure minimal nitrogen loss  \n",
       "2753  Microbes contribute to nutrient availability b...  \n",
       "2754  In the hand texturing method, soil that forms ...  \n",
       "2755  To minimize soil compaction from machinery, on...  \n",
       "2756  Medium textured soils are widely acceptable fo...  \n",
       "\n",
       "[2757 rows x 2 columns]"
      ]
     },
     "execution_count": 8,
     "metadata": {},
     "output_type": "execute_result"
    }
   ],
   "source": [
    "questions = [\"question:\" + q for q in split_dataset['train']['QUESTION.question']]\n",
    "answers = [a for a in split_dataset['train']['ANSWER']]\n",
    "\n",
    "df = pd.DataFrame({'questions': questions, 'answers': answers})\n",
    "df"
   ]
  },
  {
   "cell_type": "code",
   "execution_count": null,
   "id": "326b43a5",
   "metadata": {},
   "outputs": [
    {
     "name": "stderr",
     "output_type": "stream",
     "text": [
      "You are using the default legacy behaviour of the <class 'transformers.models.t5.tokenization_t5.T5Tokenizer'>. This is expected, and simply means that the `legacy` (previous) behavior will be used so nothing changes for you. If you want to use the new behaviour, set `legacy=False`. This should only be set if you understand what it means, and thoroughly read the reason why this was added as explained in https://github.com/huggingface/transformers/pull/24565\n"
     ]
    }
   ],
   "source": [
    "model = AutoModelForCausalLM.from_pretrained(\"persadian/CropSeek-LLM\")\n",
    "tokenizer = AutoTokenizer.from_pretrained(\"persadian/CropSeek-LLM\")\n",
    "\n",
    "max_input_length  =  256\n",
    "max_target_length =   64\n",
    "\n",
    "def preprocess(batch):\n",
    "    inputs = [\"question: \" + q.strip() for q in batch[\"question\"]]\n",
    "    targets = [a[0] if isinstance(a, list) else a for a in batch[\"answers\"]]\n",
    "    \n",
    "    model_inputs = tokenizer(inputs, \n",
    "                             max_length=max_input_length, \n",
    "                             truncation=True, \n",
    "                             padding=True)\n",
    "    labels = tokenizer(targets, \n",
    "                       max_length=max_target_length, \n",
    "                       truncation=True, \n",
    "                       padding=True)\n",
    "    \n",
    "    model_inputs[\"labels\"] = labels[\"input_ids\"]\n",
    "    return model_inputs\n",
    "\n",
    "train_dataset = split_dataset[\"train\"].map(preprocess, batched=True)\n",
    "test_dataset = split_dataset[\"test\"].map(preprocess, batched=True)\n",
    "\n"
   ]
  },
  {
   "cell_type": "code",
   "execution_count": 7,
   "id": "526fd88b",
   "metadata": {},
   "outputs": [],
   "source": [
    "rouge = evaluate.load(\"rouge\")\n",
    "\n",
    "def compute_metrics(eval_preds):\n",
    "    preds, labels = eval_preds\n",
    "    if hasattr(preds, \"dim\"):\n",
    "        preds = preds.argmax(dim=-1)\n",
    "    else:\n",
    "        preds = np.argmax(preds, axis=-1)\n",
    "\n",
    "    decoded_preds = tokenizer.batch_decode(preds, skip_special_tokens=True)\n",
    "\n",
    "    labels = [[(l if l != -100 else tokenizer.pad_token_id) for l in label] for label in labels]\n",
    "    decoded_labels = tokenizer.batch_decode(labels, skip_special_tokens=True)\n",
    "\n",
    "    decoded_preds = [\"\\n\".join(pred.strip().split(\". \")) for pred in decoded_preds]\n",
    "    decoded_labels = [\"\\n\".join(label.strip().split(\". \")) for label in decoded_labels]\n",
    "\n",
    "    result = rouge.compute(predictions=decoded_preds, references=decoded_labels, use_stemmer=True)\n",
    "    \n",
    "    result = {key: round(value * 100, 4) for key, value in result.items()}\n",
    "\n",
    "    return result\n"
   ]
  },
  {
   "cell_type": "code",
   "execution_count": null,
   "id": "1612e9d9",
   "metadata": {},
   "outputs": [],
   "source": [
    "data_collator = DataCollatorForSeq2Seq(tokenizer, model=model)\n",
    "\n",
    "training_args = Seq2SeqTrainingArguments(\n",
    "    output_dir = \"./CropSeek-LLM\",\n",
    "    per_device_train_batch_size = 8,\n",
    "    gradient_accumulation_steps = 4,\n",
    "    num_train_epochs = 3,\n",
    "    learning_rate = 5e-5,\n",
    "    evaluation_strategy = \"epoch\",      \n",
    "    save_strategy = \"epoch\",             \n",
    "    logging_dir = \"./logs\",             \n",
    "    logging_steps = 10,\n",
    "    predict_with_generate = True,\n",
    "    fp16 = True,\n",
    "    save_total_limit = 2,\n",
    ")\n",
    "\n",
    "trainer = Seq2SeqTrainer(\n",
    "    model             = model,\n",
    "    args              = training_args,\n",
    "    train_dataset     = train_dataset,\n",
    "    eval_dataset      = test_dataset,\n",
    "    data_collator     = data_collator,\n",
    "    tokenizer         = tokenizer,\n",
    "    compute_metrics   = compute_metrics,\n",
    ")"
   ]
  },
  {
   "cell_type": "code",
   "execution_count": 9,
   "id": "9f2333ca",
   "metadata": {},
   "outputs": [
    {
     "name": "stderr",
     "output_type": "stream",
     "text": [
      "Passing a tuple of `past_key_values` is deprecated and will be removed in Transformers v4.48.0. You should pass an instance of `EncoderDecoderCache` instead, e.g. `past_key_values=EncoderDecoderCache.from_legacy_cache(past_key_values)`.\n"
     ]
    },
    {
     "data": {
      "text/html": [
       "\n",
       "    <div>\n",
       "      \n",
       "      <progress value='1695' max='1695' style='width:300px; height:20px; vertical-align: middle;'></progress>\n",
       "      [1695/1695 23:47, Epoch 2/3]\n",
       "    </div>\n",
       "    <table border=\"1\" class=\"dataframe\">\n",
       "  <thead>\n",
       " <tr style=\"text-align: left;\">\n",
       "      <th>Epoch</th>\n",
       "      <th>Training Loss</th>\n",
       "      <th>Validation Loss</th>\n",
       "      <th>Rouge1</th>\n",
       "      <th>Rouge2</th>\n",
       "      <th>Rougel</th>\n",
       "      <th>Rougelsum</th>\n",
       "    </tr>\n",
       "  </thead>\n",
       "  <tbody>\n",
       "    <tr>\n",
       "      <td>1</td>\n",
       "      <td>1.003900</td>\n",
       "      <td>0.803022</td>\n",
       "      <td>1.052500</td>\n",
       "      <td>0.000000</td>\n",
       "      <td>1.052800</td>\n",
       "      <td>1.052800</td>\n",
       "    </tr>\n",
       "    <tr>\n",
       "      <td>2</td>\n",
       "      <td>0.752400</td>\n",
       "      <td>0.579151</td>\n",
       "      <td>1.056000</td>\n",
       "      <td>0.000000</td>\n",
       "      <td>1.060400</td>\n",
       "      <td>1.054800</td>\n",
       "    </tr>\n",
       "  </tbody>\n",
       "</table><p>"
      ],
      "text/plain": [
       "<IPython.core.display.HTML object>"
      ]
     },
     "metadata": {},
     "output_type": "display_data"
    }
   ],
   "source": [
    "trainer.train()\n",
    "trainer.save_model(\"./CropSeek-LLM\") "
   ]
  },
  {
   "cell_type": "code",
   "execution_count": 3,
   "id": "ef503f8e",
   "metadata": {},
   "outputs": [
    {
     "data": {
      "image/png": "[encoded data removed]",
      "text/plain": [
       "<Figure size 800x500 with 1 Axes>"
      ]
     },
     "metadata": {},
     "output_type": "display_data"
    }
   ],
   "source": [
    "import json\n",
    "\n",
    "\n",
    "# Read all log files (they are saved in 'trainer_state.json')\n",
    "with open(\"Cropseek-LLM/checkpoint-1695/trainer_state.json\", \"r\") as f:\n",
    "    logs = json.load(f)\n",
    "\n",
    "training_logs = logs[\"log_history\"]\n",
    "\n",
    "# Extract rougeL scores and epochs\n",
    "epochs = []\n",
    "rougeL = []\n",
    "\n",
    "for log in training_logs:\n",
    "    if \"eval_rougeL\" in log:\n",
    "        epochs.append(log[\"epoch\"])\n",
    "        rougeL.append(log[\"eval_rougeL\"])\n",
    "\n",
    "# Plot\n",
    "plt.figure(figsize=(8,5))\n",
    "plt.plot(epochs, rougeL, marker=\"o\", label=\"ROUGE-L Score\")\n",
    "plt.title(\"ROUGE-L Score vs Epochs\")\n",
    "plt.xlabel(\"Epochs\")\n",
    "plt.ylabel(\"ROUGE-L (%)\")\n",
    "plt.grid(True)\n",
    "plt.legend()\n",
    "plt.show()\n"
   ]
  },
  {
   "cell_type": "code",
   "execution_count": null,
   "id": "c10f7ff8",
   "metadata": {},
   "outputs": [],
   "source": []
  }
 ],
 "metadata": {
  "kernelspec": {
   "display_name": "Python 3 (ipykernel)",
   "language": "python",
   "name": "python3"
  },
  "language_info": {
   "codemirror_mode": {
    "name": "ipython",
    "version": 3
   },
   "file_extension": ".py",
   "mimetype": "text/x-python",
   "name": "python",
   "nbconvert_exporter": "python",
   "pygments_lexer": "ipython3",
   "version": "3.10.7"
  }
 },
 "nbformat": 4,
 "nbformat_minor": 5
}
